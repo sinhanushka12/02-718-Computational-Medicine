{
 "cells": [
  {
   "cell_type": "markdown",
   "metadata": {},
   "source": [
    "### Data Preprocessing Pipeline\n",
    "In this section, you will implement data preprocessing pipeline in Question 1."
   ]
  },
  {
   "cell_type": "code",
   "execution_count": 19,
   "metadata": {},
   "outputs": [],
   "source": [
    "! pip install -q openpyxl"
   ]
  },
  {
   "cell_type": "code",
   "execution_count": 20,
   "metadata": {},
   "outputs": [],
   "source": [
    "import os\n",
    "import pandas as pd\n",
    "from pathlib import Path\n",
    "import matplotlib.pyplot as plt\n",
    "from sklearn.preprocessing import StandardScaler\n",
    "from sklearn.feature_selection import VarianceThreshold"
   ]
  },
  {
   "cell_type": "code",
   "execution_count": 21,
   "metadata": {},
   "outputs": [],
   "source": [
    "data_dir = \"\"\n",
    "Path(os.path.join(data_dir, 'processed')).mkdir(parents=True, exist_ok=True)"
   ]
  },
  {
   "cell_type": "code",
   "execution_count": 22,
   "metadata": {},
   "outputs": [],
   "source": [
    "# Read data\n",
    "df = pd.read_excel(os.path.join(data_dir, 'train.xlsx'))"
   ]
  },
  {
   "cell_type": "code",
   "execution_count": 23,
   "metadata": {},
   "outputs": [],
   "source": [
    "# Rename columns\n",
    "df = df.rename(columns={\"PATIENT_ID\": \"PatientID\", \"outcome\": \"Outcome\", \"sex\": \"Sex\", \"age\": \"Age\", \"RE_DATE\": \"RecordTime\", \"Admission time\": \"AdmissionTime\", \"Discharge time\": \"DischargeTime\"})"
   ]
  },
  {
   "cell_type": "code",
   "execution_count": 24,
   "metadata": {},
   "outputs": [],
   "source": [
    "# 1.1 TODO: Fill in the Patient ID column.\n",
    "df['PatientID'] = df['PatientID'].fillna(method='ffill')"
   ]
  },
  {
   "cell_type": "code",
   "execution_count": 25,
   "metadata": {},
   "outputs": [],
   "source": [
    "# 1.2 TODO: Convert sex to integer encoding: 0—female, 1—male\n",
    "df['Sex'] = df['Sex'].map({'female': 0, 'male': 1})"
   ]
  },
  {
   "cell_type": "code",
   "execution_count": 26,
   "metadata": {},
   "outputs": [],
   "source": [
    "# 1.3 TODO: Convert all datetime to string format\n",
    "df['RecordTime'] = pd.to_datetime(df['RecordTime'])\n",
    "df['AdmissionTime'] = pd.to_datetime(df['AdmissionTime'])\n",
    "df['DischargeTime'] = pd.to_datetime(df['DischargeTime'])\n",
    "\n",
    "# Convert to string format\n",
    "df['RecordTime'] = df['RecordTime'].dt.strftime('%Y-%m-%d %H:%M:%S')\n",
    "df['AdmissionTime'] = df['AdmissionTime'].dt.strftime('%Y-%m-%d %H:%M:%S')\n",
    "df['DischargeTime'] = df['DischargeTime'].dt.strftime('%Y-%m-%d %H:%M:%S')\n"
   ]
  },
  {
   "cell_type": "code",
   "execution_count": 27,
   "metadata": {},
   "outputs": [],
   "source": [
    "# 1.4 TODO: Exclude patients with missing labels\n",
    "# remove rows with missing ID and time points \n",
    "\n",
    "df = df.dropna(subset=['PatientID', 'RecordTime', 'AdmissionTime', 'DischargeTime'])"
   ]
  },
  {
   "cell_type": "code",
   "execution_count": 28,
   "metadata": {},
   "outputs": [],
   "source": [
    "# 1.5 TODO: Calculate the Length-of-Stay (LOS) label (LOS: DischargeTime - RecordTime)\n",
    "\n",
    "df['DischargeTime'] = pd.to_datetime(df['DischargeTime'], format='%Y-%m-%d %H:%M:%S', errors='coerce')\n",
    "df['RecordTime'] = pd.to_datetime(df['RecordTime'], format='%Y-%m-%d %H:%M:%S', errors='coerce')\n",
    "\n",
    "df['LOS'] = (df['DischargeTime'] - df['RecordTime']).dt.days\n"
   ]
  },
  {
   "cell_type": "code",
   "execution_count": 29,
   "metadata": {},
   "outputs": [],
   "source": [
    "# 1.6 TODO: Set negative LOS values to 0\n",
    "df['LOS'] = df['LOS'].apply(lambda x: max(0, x))"
   ]
  },
  {
   "cell_type": "code",
   "execution_count": 30,
   "metadata": {},
   "outputs": [],
   "source": [
    "# 1.7 TODO: Drop columns whose values are all the same or all NaN\n",
    "\n",
    "df.drop_duplicates(subset=df.columns[7:], keep=False, inplace=True)\n",
    "df.dropna(subset=df.columns[7:], how='all', inplace=True)\n",
    "\n"
   ]
  },
  {
   "cell_type": "code",
   "execution_count": 31,
   "metadata": {},
   "outputs": [
    {
     "name": "stderr",
     "output_type": "stream",
     "text": [
      "/var/folders/c_/t9gykjb919v3fc912l8ql86h0000gn/T/ipykernel_21307/2975945908.py:2: FutureWarning: The default value of numeric_only in DataFrameGroupBy.median is deprecated. In a future version, numeric_only will default to False. Either specify numeric_only or select only columns which should be valid for the function.\n",
      "  df = df.groupby('PatientID').median().reset_index()\n"
     ]
    }
   ],
   "source": [
    "# 1.8 TODO: Compress all data rows to one row for each patient\n",
    "df = df.groupby('PatientID').median().reset_index()"
   ]
  },
  {
   "cell_type": "code",
   "execution_count": 32,
   "metadata": {},
   "outputs": [],
   "source": [
    "# 1.9 TODO: Remove features that have more than 10% missing values\n",
    "missing_vals = df.isna().mean() * 100\n",
    "df = df.loc[:, missing_vals <= 10]"
   ]
  },
  {
   "cell_type": "code",
   "execution_count": 33,
   "metadata": {},
   "outputs": [],
   "source": [
    "# 1.10 TODO: Data imputation\n",
    "df = df.fillna(df.median())"
   ]
  },
  {
   "cell_type": "code",
   "execution_count": 34,
   "metadata": {},
   "outputs": [],
   "source": [
    "# TODO: Save your processed dataframe\n",
    "\n",
    "import os\n",
    "processed_folder = 'processed'\n",
    "os.makedirs(processed_folder, exist_ok=True)\n",
    "\n",
    "df.to_csv(os.path.join(processed_folder, 'processed_data.csv'), index=False)\n"
   ]
  },
  {
   "cell_type": "code",
   "execution_count": 35,
   "metadata": {},
   "outputs": [],
   "source": [
    "# 1.11 What other data preprocessing steps can you come up with? \n",
    "#       Implement them and explain why you use them here.\n",
    "\n",
    "from sklearn.preprocessing import StandardScaler\n",
    "\n",
    "columns_to_exclude = ['Outcome', 'LOS']\n",
    "df_to_scale = df.drop(columns=columns_to_exclude)\n",
    "scaler = StandardScaler()\n",
    "scaled_values = scaler.fit_transform(df_to_scale)\n",
    "df_scaled = pd.DataFrame(scaled_values, columns=df_to_scale.columns)\n",
    "for col in columns_to_exclude:\n",
    "    df_scaled[col] = df[col]"
   ]
  },
  {
   "cell_type": "code",
   "execution_count": 36,
   "metadata": {},
   "outputs": [
    {
     "data": {
      "image/png": "[encoded data removed]",
      "text/plain": [
       "<Figure size 1000x600 with 1 Axes>"
      ]
     },
     "metadata": {},
     "output_type": "display_data"
    }
   ],
   "source": [
    "# 1.12 TODO: Plot your LOS distribution\n",
    "plt.figure(figsize=(10, 6))\n",
    "plt.hist(df_scaled['LOS'], bins=30, color='skyblue', edgecolor='black')\n",
    "plt.title('Distribution of Length of Stay')\n",
    "plt.xlabel('Length of stay (Number of days)')\n",
    "plt.ylabel('Frequency')\n",
    "plt.grid(axis='y', linestyle='--', alpha=0.7)\n",
    "plt.show()"
   ]
  }
 ],
 "metadata": {
  "kernelspec": {
   "display_name": "Python 3.9.13 ('base')",
   "language": "python",
   "name": "python3"
  },
  "language_info": {
   "codemirror_mode": {
    "name": "ipython",
    "version": 3
   },
   "file_extension": ".py",
   "mimetype": "text/x-python",
   "name": "python",
   "nbconvert_exporter": "python",
   "pygments_lexer": "ipython3",
   "version": "3.9.13"
  },
  "vscode": {
   "interpreter": {
    "hash": "70d57c135da11913b2ad31fa6150ab201732e694e7c1a956b2909783da6a3273"
   }
  }
 },
 "nbformat": 4,
 "nbformat_minor": 2
}
