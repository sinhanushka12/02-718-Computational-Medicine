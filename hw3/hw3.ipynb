{
  "cells": [
    {
      "cell_type": "markdown",
      "id": "zYgcBnjmruCL",
      "metadata": {
        "id": "zYgcBnjmruCL"
      },
      "source": [
        "# Import packages"
      ]
    },
    {
      "cell_type": "code",
      "execution_count": 1,
      "id": "2ff8dc3c",
      "metadata": {
        "id": "2ff8dc3c"
      },
      "outputs": [],
      "source": [
        "! pip install -q pydeseq2\n",
        "! pip install -q sanbomics\n",
        "! pip install -q gseapy"
      ]
    },
    {
      "cell_type": "code",
      "execution_count": 1,
      "id": "8508227b",
      "metadata": {
        "id": "8508227b"
      },
      "outputs": [],
      "source": [
        "import pandas as pd\n",
        "import numpy as np\n",
        "import matplotlib.pyplot as plt\n",
        "\n",
        "import pickle as pkl\n",
        "\n",
        "\n",
        "\n"
      ]
    },
    {
      "cell_type": "code",
      "execution_count": 2,
      "id": "97296b07",
      "metadata": {},
      "outputs": [],
      "source": [
        "import gseapy as gp"
      ]
    },
    {
      "cell_type": "code",
      "execution_count": 3,
      "id": "d65ce034",
      "metadata": {},
      "outputs": [],
      "source": [
        "import sanbomics.tools as tools"
      ]
    },
    {
      "cell_type": "code",
      "execution_count": 4,
      "id": "9d4d63e9",
      "metadata": {},
      "outputs": [
        {
          "ename": "",
          "evalue": "",
          "output_type": "error",
          "traceback": [
            "\u001b[1;31mThe Kernel crashed while executing code in the the current cell or a previous cell. Please review the code in the cell(s) to identify a possible cause of the failure. Click <a href='https://aka.ms/vscodeJupyterKernelCrash'>here</a> for more info. View Jupyter <a href='command:jupyter.viewOutput'>log</a> for further details."
          ]
        },
        {
          "ename": "",
          "evalue": "",
          "output_type": "error",
          "traceback": [
            "\u001b[1;31mCanceled future for execute_request message before replies were done"
          ]
        }
      ],
      "source": [
        "from pydeseq2.dds import DeseqDataSet"
      ]
    },
    {
      "cell_type": "code",
      "execution_count": 1,
      "id": "3e610ade",
      "metadata": {},
      "outputs": [
        {
          "ename": "",
          "evalue": "",
          "output_type": "error",
          "traceback": [
            "\u001b[1;31mThe Kernel crashed while executing code in the the current cell or a previous cell. Please review the code in the cell(s) to identify a possible cause of the failure. Click <a href='https://aka.ms/vscodeJupyterKernelCrash'>here</a> for more info. View Jupyter <a href='command:jupyter.viewOutput'>log</a> for further details."
          ]
        },
        {
          "ename": "",
          "evalue": "",
          "output_type": "error",
          "traceback": [
            "\u001b[1;31mCanceled future for execute_request message before replies were done"
          ]
        }
      ],
      "source": [
        "from pydeseq2.ds import DeseqStats"
      ]
    },
    {
      "cell_type": "code",
      "execution_count": null,
      "id": "dc0952ac",
      "metadata": {},
      "outputs": [],
      "source": [
        "from gseapy.plot import gseaplot"
      ]
    },
    {
      "cell_type": "code",
      "execution_count": null,
      "id": "c7a29b92",
      "metadata": {},
      "outputs": [],
      "source": [
        "from gseapy import enrichment_map"
      ]
    },
    {
      "cell_type": "markdown",
      "id": "_4Rcb1elryZY",
      "metadata": {
        "id": "_4Rcb1elryZY"
      },
      "source": [
        "# Question 2: Differential Gene Expression Analysis"
      ]
    },
    {
      "cell_type": "markdown",
      "id": "Cwbkh-dQsIxH",
      "metadata": {
        "id": "Cwbkh-dQsIxH"
      },
      "source": [
        "## 2.1 Data loading"
      ]
    },
    {
      "cell_type": "code",
      "execution_count": null,
      "id": "a51169a4",
      "metadata": {
        "colab": {
          "base_uri": "https://localhost:8080/",
          "height": 36
        },
        "id": "a51169a4",
        "outputId": "90b43e7a-a924-4030-d041-fe751b037cf1"
      },
      "outputs": [
        {
          "data": {
            "application/vnd.google.colaboratory.intrinsic+json": {
              "type": "string"
            },
            "text/plain": [
              "\"\\nTODO: Load the gene count 'HW3_Data.csv' file.\\n\""
            ]
          },
          "execution_count": 3,
          "metadata": {},
          "output_type": "execute_result"
        }
      ],
      "source": [
        "'''\n",
        "TODO: Load the gene count 'HW3_Data.csv' file.\n",
        "'''"
      ]
    },
    {
      "cell_type": "markdown",
      "id": "ZZbstWKYsO6j",
      "metadata": {
        "id": "ZZbstWKYsO6j"
      },
      "source": [
        "## 2.2 Data filtering"
      ]
    },
    {
      "cell_type": "code",
      "execution_count": null,
      "id": "9437cd34",
      "metadata": {
        "colab": {
          "base_uri": "https://localhost:8080/",
          "height": 36
        },
        "id": "9437cd34",
        "outputId": "acfb8ab1-b213-4017-aad7-8d2a1a80b071"
      },
      "outputs": [
        {
          "data": {
            "application/vnd.google.colaboratory.intrinsic+json": {
              "type": "string"
            },
            "text/plain": [
              "'\\nTODO: Filter out genes that have less than 5 read counts in total\\n\\nHint: column rum (or row sum) >= 5\\n'"
            ]
          },
          "execution_count": 4,
          "metadata": {},
          "output_type": "execute_result"
        }
      ],
      "source": [
        "'''\n",
        "TODO: Filter out genes that have less than 5 read counts in total\n",
        "\n",
        "Hint: column sum (or row sum) >= 5\n",
        "'''"
      ]
    },
    {
      "cell_type": "markdown",
      "id": "XZUQpp1PtPdG",
      "metadata": {
        "id": "XZUQpp1PtPdG"
      },
      "source": [
        "## 2.3 Metadata"
      ]
    },
    {
      "cell_type": "code",
      "execution_count": null,
      "id": "b3c8eba0",
      "metadata": {
        "colab": {
          "base_uri": "https://localhost:8080/",
          "height": 36
        },
        "id": "b3c8eba0",
        "outputId": "2380998f-3e3e-44ea-f7d7-1d7873b6850c"
      },
      "outputs": [
        {
          "data": {
            "application/vnd.google.colaboratory.intrinsic+json": {
              "type": "string"
            },
            "text/plain": [
              "'\\nTODO: Infer metadata from sample names\\n\\nHint: the metadata matrix is of shape [8 samples, 2 groups]\\n'"
            ]
          },
          "execution_count": 5,
          "metadata": {},
          "output_type": "execute_result"
        }
      ],
      "source": [
        "'''\n",
        "TODO: Infer metadata from sample names\n",
        "\n",
        "Hint: the metadata matrix is of shape [8 samples, 2 groups]\n",
        "'''"
      ]
    },
    {
      "cell_type": "markdown",
      "id": "X4EYQpKSte_2",
      "metadata": {
        "id": "X4EYQpKSte_2"
      },
      "source": [
        "## 2.4 PCA"
      ]
    },
    {
      "cell_type": "code",
      "execution_count": null,
      "id": "38d221ff",
      "metadata": {
        "colab": {
          "base_uri": "https://localhost:8080/",
          "height": 36
        },
        "id": "38d221ff",
        "outputId": "69cf9401-0af8-4ade-c25b-1355ebbc0120"
      },
      "outputs": [
        {
          "data": {
            "application/vnd.google.colaboratory.intrinsic+json": {
              "type": "string"
            },
            "text/plain": [
              "'\\nTODO: Create a DeseqDataSet object from the count and metadata data.\\n\\nHint: PyDEseq2 https://pydeseq2.readthedocs.io/en/latest/auto_examples/index.html\\n'"
            ]
          },
          "execution_count": 6,
          "metadata": {},
          "output_type": "execute_result"
        }
      ],
      "source": [
        "'''\n",
        "TODO: Create a DeseqDataSet object from the count and metadata data.\n",
        "\n",
        "Hint: PyDEseq2 https://pydeseq2.readthedocs.io/en/latest/auto_examples/index.html\n",
        "'''\n"
      ]
    },
    {
      "cell_type": "code",
      "execution_count": null,
      "id": "S5RnkphsWmmS",
      "metadata": {
        "colab": {
          "base_uri": "https://localhost:8080/",
          "height": 36
        },
        "id": "S5RnkphsWmmS",
        "outputId": "c34bd119-4970-455f-8135-bfea9222f847"
      },
      "outputs": [
        {
          "data": {
            "application/vnd.google.colaboratory.intrinsic+json": {
              "type": "string"
            },
            "text/plain": [
              "'\\nTODO: Generate a principal component plot of the samples.\\n\\nHint: You could use scanpy.\\n  https://scanpy.readthedocs.io/en/stable/generated/scanpy.tl.pca.html\\n  https://scanpy.readthedocs.io/en/stable/generated/scanpy.pl.pca.html\\n'"
            ]
          },
          "execution_count": 7,
          "metadata": {},
          "output_type": "execute_result"
        }
      ],
      "source": [
        "'''\n",
        "TODO: Generate a principal component plot of the samples.\n",
        "\n",
        "Hint: You could use scanpy.\n",
        "  https://scanpy.readthedocs.io/en/stable/generated/scanpy.tl.pca.html\n",
        "  https://scanpy.readthedocs.io/en/stable/generated/scanpy.pl.pca.html\n",
        "'''"
      ]
    },
    {
      "cell_type": "markdown",
      "id": "UKynhfIntlsX",
      "metadata": {
        "id": "UKynhfIntlsX"
      },
      "source": [
        "## 2.5 Identification of differentially expressed genes"
      ]
    },
    {
      "cell_type": "code",
      "execution_count": null,
      "id": "c52b3680",
      "metadata": {
        "colab": {
          "base_uri": "https://localhost:8080/",
          "height": 36
        },
        "id": "c52b3680",
        "outputId": "244b9807-8cca-4d74-f790-098d875b3c8a"
      },
      "outputs": [
        {
          "data": {
            "application/vnd.google.colaboratory.intrinsic+json": {
              "type": "string"
            },
            "text/plain": [
              "'\\nTODO: Fit dispersions and LFCs\\n\\nHint: Run the deseq2() method\\n'"
            ]
          },
          "execution_count": 8,
          "metadata": {},
          "output_type": "execute_result"
        }
      ],
      "source": [
        "'''\n",
        "TODO: Fit dispersions and LFCs\n",
        "\n",
        "Hint: Run the deseq2() method\n",
        "'''"
      ]
    },
    {
      "cell_type": "code",
      "execution_count": null,
      "id": "f5d90ba9",
      "metadata": {
        "colab": {
          "base_uri": "https://localhost:8080/",
          "height": 36
        },
        "id": "f5d90ba9",
        "outputId": "536cc97a-cc39-42f8-a514-16a99902d782"
      },
      "outputs": [
        {
          "data": {
            "application/vnd.google.colaboratory.intrinsic+json": {
              "type": "string"
            },
            "text/plain": [
              "'\\nTODO: Perform statistical tests to compute p-values and adjusted p-values.\\n      Set the significance threshold to be 0.01.\\n      Save the results to a dataframe.\\n\\nHint: DeseqStats()\\n'"
            ]
          },
          "execution_count": 9,
          "metadata": {},
          "output_type": "execute_result"
        }
      ],
      "source": [
        "'''\n",
        "TODO: Perform statistical tests to compute p-values and adjusted p-values.\n",
        "      Set the significance threshold to be 0.01.\n",
        "      Save the results to a dataframe.\n",
        "\n",
        "Hint: DeseqStats()\n",
        "'''"
      ]
    },
    {
      "cell_type": "code",
      "execution_count": null,
      "id": "c261f6cf",
      "metadata": {
        "colab": {
          "base_uri": "https://localhost:8080/",
          "height": 36
        },
        "id": "c261f6cf",
        "outputId": "e13df83c-112b-4fbf-f69e-0f16b339daf6"
      },
      "outputs": [
        {
          "data": {
            "application/vnd.google.colaboratory.intrinsic+json": {
              "type": "string"
            },
            "text/plain": [
              "'\\nTODO: Determine significant differentially expressed genes.\\n      Thresholds: padj < 0.05 and absolute value of log2FoldChange > 1\\n'"
            ]
          },
          "execution_count": 10,
          "metadata": {},
          "output_type": "execute_result"
        }
      ],
      "source": [
        "'''\n",
        "TODO: Determine significant differentially expressed genes.\n",
        "      Thresholds: padj < 0.05 and absolute value of log2FoldChange > 1\n",
        "'''"
      ]
    },
    {
      "cell_type": "code",
      "execution_count": null,
      "id": "H1lVNktlVv7c",
      "metadata": {
        "colab": {
          "base_uri": "https://localhost:8080/",
          "height": 53
        },
        "id": "H1lVNktlVv7c",
        "outputId": "40906431-db7a-4ad9-cc84-4ff9cdc2cf2d"
      },
      "outputs": [
        {
          "data": {
            "application/vnd.google.colaboratory.intrinsic+json": {
              "type": "string"
            },
            "text/plain": [
              "\"\\nTODO: Convert the ensembl gene ids of the signifcant genes to gene symbols. This step is required for gsea.\\n\\nHint: You could use the id_map functionality from the sanbomics package.\\n\\nSample code:\\nhuman_mapper = sanbomics.tools.id_map(species = 'human')\\ngene_symbols = sigs.index.map(human_mapper.mapper)\\n\""
            ]
          },
          "execution_count": 11,
          "metadata": {},
          "output_type": "execute_result"
        }
      ],
      "source": [
        "'''\n",
        "TODO: Convert the ensembl gene ids of the signifcant genes to gene symbols. This step is required for gsea.\n",
        "\n",
        "Hint: You could use the id_map functionality from the sanbomics package.\n",
        "\n",
        "Sample code:\n",
        "human_mapper = sanbomics.tools.id_map(species = 'human')\n",
        "gene_symbols = sigs.index.map(human_mapper.mapper)\n",
        "'''"
      ]
    },
    {
      "cell_type": "code",
      "execution_count": null,
      "id": "xdZEvRK4FGJH",
      "metadata": {
        "colab": {
          "base_uri": "https://localhost:8080/",
          "height": 36
        },
        "id": "xdZEvRK4FGJH",
        "outputId": "00214cb6-4652-48aa-836d-0a9e8a52a7c9"
      },
      "outputs": [
        {
          "data": {
            "application/vnd.google.colaboratory.intrinsic+json": {
              "type": "string"
            },
            "text/plain": [
              "'\\nTODO: Draw a volcano plot of the differentially expressed genes\\n\\nHint: You could use the bioinfokit package: https://reneshbedre.github.io/blog/howtoinstall.html#volcano-plot\\n'"
            ]
          },
          "execution_count": 12,
          "metadata": {},
          "output_type": "execute_result"
        }
      ],
      "source": [
        "'''\n",
        "TODO: Draw a volcano plot of the differentially expressed genes\n",
        "\n",
        "Hint: You could use the bioinfokit package: https://reneshbedre.github.io/blog/howtoinstall.html#volcano-plot\n",
        "'''"
      ]
    },
    {
      "cell_type": "markdown",
      "id": "2eXoZ822yVVL",
      "metadata": {
        "id": "2eXoZ822yVVL"
      },
      "source": [
        "# Question 3: GSEA"
      ]
    },
    {
      "cell_type": "markdown",
      "id": "IKMDNeS_yu48",
      "metadata": {
        "id": "IKMDNeS_yu48"
      },
      "source": [
        "## 3.2 Prerank"
      ]
    },
    {
      "cell_type": "code",
      "execution_count": null,
      "id": "c6bc4216",
      "metadata": {
        "colab": {
          "base_uri": "https://localhost:8080/",
          "height": 36
        },
        "id": "c6bc4216",
        "outputId": "78dac544-2a38-4ac0-f07b-00780b863b33"
      },
      "outputs": [
        {
          "data": {
            "application/vnd.google.colaboratory.intrinsic+json": {
              "type": "string"
            },
            "text/plain": [
              "'\\nTODO: Drop na from differential gene expression results.\\n      Prerank the significant de genes based on a statistics of your choice.\\n\\nHint: You could use the GSEAPY package: https://gseapy.readthedocs.io/en/latest/introduction.html\\n'"
            ]
          },
          "execution_count": 13,
          "metadata": {},
          "output_type": "execute_result"
        }
      ],
      "source": [
        "'''\n",
        "TODO: Drop na from differential gene expression results.\n",
        "      Prerank the significant de genes based on a statistics of your choice.\n",
        "\n",
        "Hint: You could use the GSEAPY package: https://gseapy.readthedocs.io/en/latest/introduction.html\n",
        "'''"
      ]
    },
    {
      "cell_type": "markdown",
      "id": "ZqMIzPZJyyOl",
      "metadata": {
        "id": "ZqMIzPZJyyOl"
      },
      "source": [
        "## 3.3 Libraries"
      ]
    },
    {
      "cell_type": "code",
      "execution_count": null,
      "id": "9ac9b8c7",
      "metadata": {
        "colab": {
          "base_uri": "https://localhost:8080/",
          "height": 36
        },
        "id": "9ac9b8c7",
        "outputId": "759d44e3-b441-4c50-df96-b34ff7f5de27"
      },
      "outputs": [
        {
          "data": {
            "application/vnd.google.colaboratory.intrinsic+json": {
              "type": "string"
            },
            "text/plain": [
              "'\\nTODO: Explore the available gene sets libraries.\\n\\nHints: gp.get_library_name()\\n'"
            ]
          },
          "execution_count": 14,
          "metadata": {},
          "output_type": "execute_result"
        }
      ],
      "source": [
        "'''\n",
        "TODO: Explore the available gene sets libraries.\n",
        "\n",
        "Hints: gp.get_library_name()\n",
        "'''"
      ]
    },
    {
      "cell_type": "markdown",
      "id": "WeFEu_GyzUvw",
      "metadata": {
        "id": "WeFEu_GyzUvw"
      },
      "source": [
        "## 3.5 GSEA"
      ]
    },
    {
      "cell_type": "code",
      "execution_count": null,
      "id": "12d52a69",
      "metadata": {
        "colab": {
          "base_uri": "https://localhost:8080/",
          "height": 36
        },
        "id": "12d52a69",
        "outputId": "c322ac3a-c1a3-4a61-9cc9-1284849add67"
      },
      "outputs": [
        {
          "data": {
            "application/vnd.google.colaboratory.intrinsic+json": {
              "type": "string"
            },
            "text/plain": [
              "\"\\nTODO:  Perform gsea using the 'GO_Biological_Process_2023' library.\\n\""
            ]
          },
          "execution_count": 15,
          "metadata": {},
          "output_type": "execute_result"
        }
      ],
      "source": [
        "'''\n",
        "TODO:  Perform gsea using the 'GO_Biological_Process_2023' library.\n",
        "'''"
      ]
    },
    {
      "cell_type": "code",
      "execution_count": null,
      "id": "rG0YVjgs17wt",
      "metadata": {
        "colab": {
          "base_uri": "https://localhost:8080/",
          "height": 36
        },
        "id": "rG0YVjgs17wt",
        "outputId": "c81d15df-e681-4d70-8ac9-3b3a794acde7"
      },
      "outputs": [
        {
          "data": {
            "application/vnd.google.colaboratory.intrinsic+json": {
              "type": "string"
            },
            "text/plain": [
              "'\\nTODO:  Identify the top 1 GO term and generate its gsea plot.\\n'"
            ]
          },
          "execution_count": 16,
          "metadata": {},
          "output_type": "execute_result"
        }
      ],
      "source": [
        "'''\n",
        "TODO:  Identify the top 1 GO term and generate its gsea plot.\n",
        "'''"
      ]
    },
    {
      "cell_type": "code",
      "execution_count": null,
      "id": "4p6w5yLS1-Bq",
      "metadata": {
        "colab": {
          "base_uri": "https://localhost:8080/",
          "height": 36
        },
        "id": "4p6w5yLS1-Bq",
        "outputId": "30648018-6ef4-4cb6-869c-145c831a1b18"
      },
      "outputs": [
        {
          "data": {
            "application/vnd.google.colaboratory.intrinsic+json": {
              "type": "string"
            },
            "text/plain": [
              "'\\nTODO:  Identify another top GO term and generate its gsea plot.\\n'"
            ]
          },
          "execution_count": 17,
          "metadata": {},
          "output_type": "execute_result"
        }
      ],
      "source": [
        "'''\n",
        "TODO:  Identify another top GO term and generate its gsea plot.\n",
        "'''"
      ]
    },
    {
      "cell_type": "markdown",
      "id": "EP6beAiH0Seg",
      "metadata": {
        "id": "EP6beAiH0Seg"
      },
      "source": [
        "## 3.7 GO term similarity network"
      ]
    },
    {
      "cell_type": "code",
      "execution_count": null,
      "id": "4c99b4cc",
      "metadata": {
        "colab": {
          "base_uri": "https://localhost:8080/",
          "height": 36
        },
        "id": "4c99b4cc",
        "outputId": "08cd674d-52ac-4ecf-b58b-fea717c2633d"
      },
      "outputs": [
        {
          "data": {
            "application/vnd.google.colaboratory.intrinsic+json": {
              "type": "string"
            },
            "text/plain": [
              "'\\nTODO: Generate a plot of GO term similarity network\\n\\nHint: You could use networkx and enrichment_map from gseapy\\n'"
            ]
          },
          "execution_count": 18,
          "metadata": {},
          "output_type": "execute_result"
        }
      ],
      "source": [
        "'''\n",
        "TODO: Generate a plot of GO term similarity network\n",
        "\n",
        "Hint: You could use networkx and enrichment_map from gseapy\n",
        "'''"
      ]
    }
  ],
  "metadata": {
    "colab": {
      "provenance": []
    },
    "kernelspec": {
      "display_name": "Python 3.9.13 ('base')",
      "language": "python",
      "name": "python3"
    },
    "language_info": {
      "codemirror_mode": {
        "name": "ipython",
        "version": 3
      },
      "file_extension": ".py",
      "mimetype": "text/x-python",
      "name": "python",
      "nbconvert_exporter": "python",
      "pygments_lexer": "ipython3",
      "version": "3.9.13"
    },
    "vscode": {
      "interpreter": {
        "hash": "70d57c135da11913b2ad31fa6150ab201732e694e7c1a956b2909783da6a3273"
      }
    }
  },
  "nbformat": 4,
  "nbformat_minor": 5
}
