{
  "nbformat": 4,
  "nbformat_minor": 0,
  "metadata": {
    "colab": {
      "provenance": [],
      "include_colab_link": true
    },
    "kernelspec": {
      "name": "python3",
      "display_name": "Python 3"
    },
    "language_info": {
      "name": "python"
    }
  },
  "cells": [
    {
      "cell_type": "markdown",
      "metadata": {
        "id": "view-in-github",
        "colab_type": "text"
      },
      "source": [
        "<a href=\"https://colab.research.google.com/github/sinhanushka12/02-718-Final-Project/blob/main/02725_Project.ipynb\" target=\"_parent\"><img src=\"https://colab.research.google.com/assets/colab-badge.svg\" alt=\"Open In Colab\"/></a>"
      ]
    },
    {
      "cell_type": "code",
      "execution_count": null,
      "metadata": {
        "id": "AHqT3TtzKeXl"
      },
      "outputs": [],
      "source": [
        "# TODO: Dataloader\n",
        "# Process input files into lists of (mass, intensity) pairs for each protein\n",
        "# Convert protein sequence into binary vector of 3-mers"
      ]
    },
    {
      "cell_type": "code",
      "source": [
        "# TODO: Use RNN to process each protein and produce a hidden state, maybe use an embedding layer\n",
        "# normalize for sequence length somehow\n",
        "# Maybe use LSTM or Transformer instead"
      ],
      "metadata": {
        "id": "Uw8XvOm-K7Ns"
      },
      "execution_count": null,
      "outputs": []
    },
    {
      "cell_type": "code",
      "source": [
        "# TODO: Output layer should produce potential 3mers\n",
        "# linear layer from hidden vector to output classes\n",
        "# use cross entropy loss"
      ],
      "metadata": {
        "id": "jADFOxeoLDKk"
      },
      "execution_count": null,
      "outputs": []
    }
  ]
}